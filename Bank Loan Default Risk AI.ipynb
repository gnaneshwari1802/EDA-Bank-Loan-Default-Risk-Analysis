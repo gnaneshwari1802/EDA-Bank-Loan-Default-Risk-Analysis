{
 "cells": [
  {
   "cell_type": "code",
   "execution_count": 49,
   "id": "a74ce36b-a592-4253-9d01-f0f8cd517bfb",
   "metadata": {},
   "outputs": [],
   "source": [
    "import warnings\n",
    "from sklearn.exceptions import UndefinedMetricWarning\n",
    "from sklearn.metrics import classification_report, confusion_matrix\n",
    "\n",
    "# Before calling metrics functions, suppress the warning\n",
    "warnings.filterwarnings('ignore', category=UndefinedMetricWarning)\n",
    "\n",
    "# # Now you can call classification_report and confusion_matrix without seeing the warning\n",
    "# print(classification_report(y_test_class, y_pred_class))\n",
    "# print(confusion_matrix(y_test_class, y_pred_class))\n"
   ]
  },
  {
   "cell_type": "code",
   "execution_count": 50,
   "id": "92cc0fa2-ede5-4a9c-b72f-434b9c4cf6b8",
   "metadata": {},
   "outputs": [],
   "source": [
    "import pandas as pd\n",
    "import io\n"
   ]
  },
  {
   "cell_type": "code",
   "execution_count": 51,
   "id": "13b63e18-a8d4-42b5-b446-c61e15c5f2eb",
   "metadata": {
    "scrolled": true
   },
   "outputs": [
    {
     "data": {
      "text/html": [
       "<div>\n",
       "<style scoped>\n",
       "    .dataframe tbody tr th:only-of-type {\n",
       "        vertical-align: middle;\n",
       "    }\n",
       "\n",
       "    .dataframe tbody tr th {\n",
       "        vertical-align: top;\n",
       "    }\n",
       "\n",
       "    .dataframe thead th {\n",
       "        text-align: right;\n",
       "    }\n",
       "</style>\n",
       "<table border=\"1\" class=\"dataframe\">\n",
       "  <thead>\n",
       "    <tr style=\"text-align: right;\">\n",
       "      <th></th>\n",
       "      <th>Id</th>\n",
       "      <th>Income</th>\n",
       "      <th>Age</th>\n",
       "      <th>Experience</th>\n",
       "      <th>Married/Single</th>\n",
       "      <th>House_Ownership</th>\n",
       "      <th>Car_Ownership</th>\n",
       "      <th>Profession</th>\n",
       "      <th>CITY</th>\n",
       "      <th>STATE</th>\n",
       "      <th>CURRENT_JOB_YRS</th>\n",
       "      <th>CURRENT_HOUSE_YRS</th>\n",
       "      <th>Risk_Flag</th>\n",
       "    </tr>\n",
       "  </thead>\n",
       "  <tbody>\n",
       "    <tr>\n",
       "      <th>0</th>\n",
       "      <td>1</td>\n",
       "      <td>1303834</td>\n",
       "      <td>23</td>\n",
       "      <td>3</td>\n",
       "      <td>single</td>\n",
       "      <td>rented</td>\n",
       "      <td>no</td>\n",
       "      <td>Mechanical_engineer</td>\n",
       "      <td>Rewa</td>\n",
       "      <td>Madhya_Pradesh</td>\n",
       "      <td>3</td>\n",
       "      <td>13</td>\n",
       "      <td>0</td>\n",
       "    </tr>\n",
       "    <tr>\n",
       "      <th>1</th>\n",
       "      <td>2</td>\n",
       "      <td>7574516</td>\n",
       "      <td>40</td>\n",
       "      <td>10</td>\n",
       "      <td>single</td>\n",
       "      <td>rented</td>\n",
       "      <td>no</td>\n",
       "      <td>Software_Developer</td>\n",
       "      <td>Parbhani</td>\n",
       "      <td>Maharashtra</td>\n",
       "      <td>9</td>\n",
       "      <td>13</td>\n",
       "      <td>0</td>\n",
       "    </tr>\n",
       "    <tr>\n",
       "      <th>2</th>\n",
       "      <td>3</td>\n",
       "      <td>3991815</td>\n",
       "      <td>66</td>\n",
       "      <td>4</td>\n",
       "      <td>married</td>\n",
       "      <td>rented</td>\n",
       "      <td>no</td>\n",
       "      <td>Technical_writer</td>\n",
       "      <td>Alappuzha</td>\n",
       "      <td>Kerala</td>\n",
       "      <td>4</td>\n",
       "      <td>10</td>\n",
       "      <td>0</td>\n",
       "    </tr>\n",
       "    <tr>\n",
       "      <th>3</th>\n",
       "      <td>4</td>\n",
       "      <td>6256451</td>\n",
       "      <td>41</td>\n",
       "      <td>2</td>\n",
       "      <td>single</td>\n",
       "      <td>rented</td>\n",
       "      <td>yes</td>\n",
       "      <td>Software_Developer</td>\n",
       "      <td>Bhubaneswar</td>\n",
       "      <td>Odisha</td>\n",
       "      <td>2</td>\n",
       "      <td>12</td>\n",
       "      <td>1</td>\n",
       "    </tr>\n",
       "    <tr>\n",
       "      <th>4</th>\n",
       "      <td>5</td>\n",
       "      <td>5768871</td>\n",
       "      <td>47</td>\n",
       "      <td>11</td>\n",
       "      <td>single</td>\n",
       "      <td>rented</td>\n",
       "      <td>no</td>\n",
       "      <td>Civil_servant</td>\n",
       "      <td>Tiruchirappalli[10]</td>\n",
       "      <td>Tamil_Nadu</td>\n",
       "      <td>3</td>\n",
       "      <td>14</td>\n",
       "      <td>1</td>\n",
       "    </tr>\n",
       "  </tbody>\n",
       "</table>\n",
       "</div>"
      ],
      "text/plain": [
       "   Id   Income  Age  Experience Married/Single House_Ownership Car_Ownership  \\\n",
       "0   1  1303834   23           3         single          rented            no   \n",
       "1   2  7574516   40          10         single          rented            no   \n",
       "2   3  3991815   66           4        married          rented            no   \n",
       "3   4  6256451   41           2         single          rented           yes   \n",
       "4   5  5768871   47          11         single          rented            no   \n",
       "\n",
       "            Profession                 CITY           STATE  CURRENT_JOB_YRS  \\\n",
       "0  Mechanical_engineer                 Rewa  Madhya_Pradesh                3   \n",
       "1   Software_Developer             Parbhani     Maharashtra                9   \n",
       "2     Technical_writer            Alappuzha          Kerala                4   \n",
       "3   Software_Developer          Bhubaneswar          Odisha                2   \n",
       "4        Civil_servant  Tiruchirappalli[10]      Tamil_Nadu                3   \n",
       "\n",
       "   CURRENT_HOUSE_YRS  Risk_Flag  \n",
       "0                 13          0  \n",
       "1                 13          0  \n",
       "2                 10          0  \n",
       "3                 12          1  \n",
       "4                 14          1  "
      ]
     },
     "execution_count": 51,
     "metadata": {},
     "output_type": "execute_result"
    }
   ],
   "source": [
    "data = pd.read_csv(\"https://raw.githubusercontent.com/gnaneshwari1802/EDA-Bank-Loan-Default-Risk-Analysis/main/Training%20Data.csv/Training%20Data.csv\")\n",
    "data.head()"
   ]
  },
  {
   "cell_type": "code",
   "execution_count": 52,
   "id": "80c7d0aa-3fc9-435d-8c99-7682dad9a597",
   "metadata": {},
   "outputs": [],
   "source": [
    "import keras\n",
    "from keras.models import Sequential\n",
    "from keras.layers import Dense\n",
    "from keras.optimizers import Adam\n",
    "import pydot\n",
    "import graphviz\n",
    "from IPython.display import SVG\n",
    "from keras.utils.vis_utils import model_to_dot\n",
    "from keras.utils import plot_model\n",
    "import seaborn as sns\n",
    "import pandas as pd\n",
    "import numpy as np"
   ]
  },
  {
   "cell_type": "code",
   "execution_count": 53,
   "id": "f1b365fc-de32-4265-b49d-8563be20b6b1",
   "metadata": {},
   "outputs": [],
   "source": [
    "dataset=data.drop(columns=['Id'])"
   ]
  },
  {
   "cell_type": "code",
   "execution_count": 54,
   "id": "c4fc3017-dba3-41b1-b644-18998b82ade5",
   "metadata": {},
   "outputs": [
    {
     "data": {
      "text/plain": [
       "Index(['Id', 'Income', 'Age', 'Experience', 'Married/Single',\n",
       "       'House_Ownership', 'Car_Ownership', 'Profession', 'CITY', 'STATE',\n",
       "       'CURRENT_JOB_YRS', 'CURRENT_HOUSE_YRS', 'Risk_Flag'],\n",
       "      dtype='object')"
      ]
     },
     "execution_count": 54,
     "metadata": {},
     "output_type": "execute_result"
    }
   ],
   "source": [
    "data.columns"
   ]
  },
  {
   "cell_type": "code",
   "execution_count": 55,
   "id": "81b18a52-b6f4-402f-ac32-d8eebd4a96d5",
   "metadata": {},
   "outputs": [],
   "source": [
    "from sklearn.preprocessing import LabelEncoder, OneHotEncoder\n",
    "import category_encoders as ce\n",
    "\n",
    "label_encoder = LabelEncoder()\n",
    "for col in ['Married/Single', 'Car_Ownership']:\n",
    "    data[col] = label_encoder.fit_transform(data[col])\n",
    "\n",
    "onehot_encoder = OneHotEncoder()\n",
    "data['House_Ownership'] = onehot_encoder.fit_transform(data['House_Ownership'].values.reshape(-1, 1)).toarray()\n",
    "\n",
    "high_card_features = ['Profession', 'CITY', 'STATE']\n",
    "count_encoder = ce.CountEncoder()\n",
    "\n",
    "# Transform the features, rename the columns with the _count suffix, and join to dataframe\n",
    "count_encoded = count_encoder.fit_transform(data[high_card_features])\n",
    "data = data.join(count_encoded.add_suffix(\"_count\"))\n",
    "\n",
    "data = data.drop(labels=['Profession', 'CITY', 'STATE'], axis=1)"
   ]
  },
  {
   "cell_type": "code",
   "execution_count": 56,
   "id": "e24201a0-8a60-4162-8f67-ecbcb1b60815",
   "metadata": {},
   "outputs": [],
   "source": [
    "x = data.drop(\"Risk_Flag\", axis=1)\n",
    "y = data[\"Risk_Flag\"]\n",
    "from sklearn.model_selection import train_test_split\n",
    "x_train, x_test, y_train, y_test = train_test_split(x, y, test_size = 0.2, stratify = y, random_state = 2)"
   ]
  },
  {
   "cell_type": "code",
   "execution_count": 57,
   "id": "19e0349c-ede3-49ce-be80-d2b0adbc1914",
   "metadata": {},
   "outputs": [],
   "source": [
    "# Convert data to NumPy arrays if they are not already\n",
    "x_train = np.array(x_train)\n",
    "y_train = np.array(y_train)\n"
   ]
  },
  {
   "cell_type": "code",
   "execution_count": 58,
   "id": "6c943a7c-a0d1-47fa-bbcd-7407a0361810",
   "metadata": {},
   "outputs": [],
   "source": [
    "model= Sequential()\n",
    "model1= Sequential()\n",
    "model.add(Dense(4,input_shape=(12,), activation='relu'))\n",
    "\n",
    "model.add(Dense(2, activation='sigmoid'))\n",
    "\n",
    "\n",
    "model1.add(Dense(4,input_shape=(12,), activation='relu'))\n",
    "\n",
    "model1.add(Dense(2, activation='sigmoid'))\n"
   ]
  },
  {
   "cell_type": "code",
   "execution_count": 59,
   "id": "0f12946e-f809-4248-a239-327e73e9e19a",
   "metadata": {},
   "outputs": [],
   "source": [
    "\n",
    "model.compile(optimizer=\"Adam\", loss='sparse_categorical_crossentropy', metrics=['accuracy'])"
   ]
  },
  {
   "cell_type": "code",
   "execution_count": 65,
   "id": "a3e104ec-5838-4b64-a28a-a1f2fad43122",
   "metadata": {},
   "outputs": [],
   "source": [
    "model1.compile(optimizer=\"rmsprop\", loss='sparse_categorical_crossentropy', metrics=['accuracy'])"
   ]
  },
  {
   "cell_type": "code",
   "execution_count": 61,
   "id": "048f4c1c-644c-4694-8909-a15c6cf454ab",
   "metadata": {},
   "outputs": [
    {
     "data": {
      "text/plain": [
       "array([[2.638500e+04, 7.213058e+06, 5.000000e+01, ..., 4.661000e+03,\n",
       "        7.600000e+02, 2.556200e+04],\n",
       "       [1.367600e+04, 4.313468e+06, 3.500000e+01, ..., 4.668000e+03,\n",
       "        8.220000e+02, 2.529700e+04],\n",
       "       [1.166780e+05, 3.791460e+06, 2.200000e+01, ..., 5.127000e+03,\n",
       "        9.700000e+02, 2.840000e+04],\n",
       "       ...,\n",
       "       [1.997650e+05, 3.991815e+06, 6.600000e+01, ..., 5.195000e+03,\n",
       "        6.880000e+02, 5.805000e+03],\n",
       "       [1.059750e+05, 2.577341e+06, 4.800000e+01, ..., 5.053000e+03,\n",
       "        8.850000e+02, 7.890000e+03],\n",
       "       [1.561220e+05, 1.154849e+06, 5.800000e+01, ..., 4.944000e+03,\n",
       "        5.960000e+02, 5.490000e+03]])"
      ]
     },
     "execution_count": 61,
     "metadata": {},
     "output_type": "execute_result"
    }
   ],
   "source": [
    "x_train"
   ]
  },
  {
   "cell_type": "code",
   "execution_count": 62,
   "id": "eb9d4375-da36-4f76-b3cd-ff62dd9c99c5",
   "metadata": {},
   "outputs": [
    {
     "name": "stdout",
     "output_type": "stream",
     "text": [
      "Epoch 1/5\n",
      "20160/20160 [==============================] - 74s 4ms/step - loss: 2794.7742 - accuracy: 0.7826\n",
      "Epoch 2/5\n",
      "20160/20160 [==============================] - 67s 3ms/step - loss: 0.3882 - accuracy: 0.8757\n",
      "Epoch 3/5\n",
      "20160/20160 [==============================] - 72s 4ms/step - loss: 0.3729 - accuracy: 0.8770\n",
      "Epoch 4/5\n",
      "20160/20160 [==============================] - 70s 3ms/step - loss: 0.3729 - accuracy: 0.8770\n",
      "Epoch 5/5\n",
      "20160/20160 [==============================] - 66s 3ms/step - loss: 0.3729 - accuracy: 0.8770\n"
     ]
    },
    {
     "data": {
      "text/plain": [
       "<keras.callbacks.History at 0x206ac276cd0>"
      ]
     },
     "execution_count": 62,
     "metadata": {},
     "output_type": "execute_result"
    }
   ],
   "source": [
    "model.fit(x_train, y_train, batch_size=10, epochs=5)\n"
   ]
  },
  {
   "cell_type": "code",
   "execution_count": 63,
   "id": "e9e2b096-9564-46b3-8279-86f70a54c0e8",
   "metadata": {},
   "outputs": [],
   "source": [
    "# model1.compile(optimizer=\"rmsprop\", loss='categorical_crossentropy', metrics=['accuracy'])"
   ]
  },
  {
   "cell_type": "code",
   "execution_count": 66,
   "id": "4e286505-8397-4c29-9926-462c4c407c82",
   "metadata": {},
   "outputs": [
    {
     "name": "stdout",
     "output_type": "stream",
     "text": [
      "Epoch 1/5\n",
      "20160/20160 [==============================] - 67s 3ms/step - loss: 2469.1809 - accuracy: 0.7726\n",
      "Epoch 2/5\n",
      "20160/20160 [==============================] - 71s 4ms/step - loss: 1186.8691 - accuracy: 0.7704\n",
      "Epoch 3/5\n",
      "20160/20160 [==============================] - 71s 4ms/step - loss: 888.2753 - accuracy: 0.7700\n",
      "Epoch 4/5\n",
      "20160/20160 [==============================] - 57s 3ms/step - loss: 379.5999 - accuracy: 0.7842\n",
      "Epoch 5/5\n",
      "20160/20160 [==============================] - 58s 3ms/step - loss: 0.3889 - accuracy: 0.8770\n"
     ]
    },
    {
     "data": {
      "text/plain": [
       "<keras.callbacks.History at 0x206ac2594f0>"
      ]
     },
     "execution_count": 66,
     "metadata": {},
     "output_type": "execute_result"
    }
   ],
   "source": [
    "model1.fit(x_train, y_train, batch_size=10, epochs=5)\n"
   ]
  },
  {
   "cell_type": "code",
   "execution_count": 68,
   "id": "8ec0fab2-2d50-4616-8fd6-10b11009bbc6",
   "metadata": {},
   "outputs": [
    {
     "name": "stdout",
     "output_type": "stream",
     "text": [
      "1575/1575 [==============================] - 5s 3ms/step\n"
     ]
    }
   ],
   "source": [
    "# Obtain predicted class labels using your trained model and testing input features\n",
    "y_pred = model.predict(x_test)"
   ]
  },
  {
   "cell_type": "code",
   "execution_count": 72,
   "id": "59c7a5f5-70e2-45d5-b537-70a50b260e34",
   "metadata": {},
   "outputs": [
    {
     "data": {
      "text/plain": [
       "array([[0.7268431 , 0.27315682],\n",
       "       [0.7268431 , 0.27315682],\n",
       "       [0.7268431 , 0.27315682],\n",
       "       ...,\n",
       "       [0.7268431 , 0.27315682],\n",
       "       [0.7268431 , 0.27315682],\n",
       "       [0.7268431 , 0.27315682]], dtype=float32)"
      ]
     },
     "execution_count": 72,
     "metadata": {},
     "output_type": "execute_result"
    }
   ],
   "source": [
    "y_pred"
   ]
  },
  {
   "cell_type": "code",
   "execution_count": 74,
   "id": "f7c470e2-8d63-4b86-b865-7517f08c9dfa",
   "metadata": {},
   "outputs": [
    {
     "data": {
      "text/plain": [
       "(50400, 2)"
      ]
     },
     "execution_count": 74,
     "metadata": {},
     "output_type": "execute_result"
    }
   ],
   "source": [
    "y_pred.shape"
   ]
  },
  {
   "cell_type": "code",
   "execution_count": 75,
   "id": "75fce170-eba3-4f60-9c77-56bae39d6160",
   "metadata": {},
   "outputs": [
    {
     "name": "stdout",
     "output_type": "stream",
     "text": [
      "              precision    recall  f1-score   support\n",
      "\n",
      "           0       0.88      1.00      0.93     44201\n",
      "           1       0.00      0.00      0.00      6199\n",
      "\n",
      "    accuracy                           0.88     50400\n",
      "   macro avg       0.44      0.50      0.47     50400\n",
      "weighted avg       0.77      0.88      0.82     50400\n",
      "\n",
      "[[44201     0]\n",
      " [ 6199     0]]\n"
     ]
    }
   ],
   "source": [
    "import numpy as np\n",
    "\n",
    "# Convert probabilities to binary labels using a threshold of 0.5\n",
    "y_pred_binary = np.where(y_pred[:, 1] > 0.5, 1, 0)\n",
    "\n",
    "# Now you can use y_test and y_pred_binary to compute classification report and confusion matrix\n",
    "print(classification_report(y_test, y_pred_binary))\n",
    "print(confusion_matrix(y_test, y_pred_binary))\n"
   ]
  },
  {
   "cell_type": "code",
   "execution_count": 76,
   "id": "69e39cfa-9c8b-4c7b-a748-1e7408164c22",
   "metadata": {},
   "outputs": [
    {
     "data": {
      "text/plain": [
       "array([0, 0, 0, ..., 0, 0, 0])"
      ]
     },
     "execution_count": 76,
     "metadata": {},
     "output_type": "execute_result"
    }
   ],
   "source": [
    "y_pred_binary"
   ]
  },
  {
   "cell_type": "code",
   "execution_count": 79,
   "id": "dcf3f96b-3e86-4a15-8cda-53d0b9ce2f82",
   "metadata": {},
   "outputs": [
    {
     "data": {
      "text/plain": [
       "array([0])"
      ]
     },
     "execution_count": 79,
     "metadata": {},
     "output_type": "execute_result"
    }
   ],
   "source": [
    "np.unique(y_pred_binary)"
   ]
  },
  {
   "cell_type": "code",
   "execution_count": 71,
   "id": "4bdef8c9-2e21-457f-955b-ed810b7f78b8",
   "metadata": {},
   "outputs": [
    {
     "data": {
      "text/plain": [
       "90388     0\n",
       "44883     0\n",
       "74955     0\n",
       "109598    1\n",
       "176932    1\n",
       "         ..\n",
       "158023    0\n",
       "179235    0\n",
       "115032    0\n",
       "17450     0\n",
       "55608     0\n",
       "Name: Risk_Flag, Length: 50400, dtype: int64"
      ]
     },
     "execution_count": 71,
     "metadata": {},
     "output_type": "execute_result"
    }
   ],
   "source": [
    "y_test"
   ]
  },
  {
   "cell_type": "code",
   "execution_count": 80,
   "id": "f54e179b-1abf-43e0-b2d6-b078d7e77d59",
   "metadata": {},
   "outputs": [],
   "source": [
    "# from sklearn.metrics import classification_report,confusion_matrix\n",
    "# print(classification_report(y_test,y_pred))\n",
    "# print(confusion_matrix(y_test,y_pred))"
   ]
  },
  {
   "cell_type": "code",
   "execution_count": 81,
   "id": "a588dbc8-848c-45d3-8cfd-6491085a6e43",
   "metadata": {},
   "outputs": [
    {
     "name": "stdout",
     "output_type": "stream",
     "text": [
      "1575/1575 [==============================] - 5s 3ms/step - loss: 0.3729 - accuracy: 0.8770\n"
     ]
    },
    {
     "data": {
      "text/plain": [
       "[0.37285560369491577, 0.8770039677619934]"
      ]
     },
     "execution_count": 81,
     "metadata": {},
     "output_type": "execute_result"
    }
   ],
   "source": [
    "model.evaluate(x_test, y_test)"
   ]
  },
  {
   "cell_type": "code",
   "execution_count": 83,
   "id": "4f35c147-37ee-4c38-b797-930fcf26ef17",
   "metadata": {},
   "outputs": [
    {
     "name": "stdout",
     "output_type": "stream",
     "text": [
      "1575/1575 [==============================] - 5s 3ms/step - loss: 0.3761 - accuracy: 0.8770\n"
     ]
    },
    {
     "data": {
      "text/plain": [
       "[0.37610262632369995, 0.876964271068573]"
      ]
     },
     "execution_count": 83,
     "metadata": {},
     "output_type": "execute_result"
    }
   ],
   "source": [
    "model1.evaluate(x_test, y_test)"
   ]
  },
  {
   "cell_type": "code",
   "execution_count": null,
   "id": "603af1e0-4809-457e-8458-0cc3a495679d",
   "metadata": {},
   "outputs": [],
   "source": []
  }
 ],
 "metadata": {
  "kernelspec": {
   "display_name": "Python 3 (ipykernel)",
   "language": "python",
   "name": "python3"
  },
  "language_info": {
   "codemirror_mode": {
    "name": "ipython",
    "version": 3
   },
   "file_extension": ".py",
   "mimetype": "text/x-python",
   "name": "python",
   "nbconvert_exporter": "python",
   "pygments_lexer": "ipython3",
   "version": "3.9.18"
  }
 },
 "nbformat": 4,
 "nbformat_minor": 5
}
